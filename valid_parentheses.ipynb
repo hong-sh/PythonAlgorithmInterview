{
 "metadata": {
  "language_info": {
   "codemirror_mode": {
    "name": "ipython",
    "version": 3
   },
   "file_extension": ".py",
   "mimetype": "text/x-python",
   "name": "python",
   "nbconvert_exporter": "python",
   "pygments_lexer": "ipython3",
   "version": "3.6.9-final"
  },
  "orig_nbformat": 2,
  "kernelspec": {
   "name": "Python 3.6.9 64-bit",
   "display_name": "Python 3.6.9 64-bit",
   "metadata": {
    "interpreter": {
     "hash": "31f2aee4e71d21fbe5cf8b01ff0e069b9275f58929596ceb00d14d90e3e16cd6"
    }
   }
  }
 },
 "nbformat": 4,
 "nbformat_minor": 2,
 "cells": [
  {
   "cell_type": "code",
   "execution_count": 11,
   "metadata": {},
   "outputs": [],
   "source": [
    "import typing\n",
    "from typing import List"
   ]
  },
  {
   "cell_type": "code",
   "execution_count": 20,
   "metadata": {},
   "outputs": [],
   "source": [
    "def valid_parentheses(parentheses:str): \n",
    "    stack = []\n",
    "    for char in parentheses:\n",
    "        if char == ')':\n",
    "            if stack.pop() != '(':\n",
    "                return False\n",
    "        elif char == ']':\n",
    "            if stack.pop() != '[':\n",
    "                return False\n",
    "        elif char == '}' :\n",
    "            if stack.pop() != '{':\n",
    "                return False\n",
    "        else:\n",
    "            stack.append(char)\n",
    "            print(stack)\n",
    "    return True\n",
    "\n",
    "\n"
   ]
  },
  {
   "cell_type": "code",
   "execution_count": 21,
   "metadata": {},
   "outputs": [
    {
     "output_type": "stream",
     "name": "stdout",
     "text": [
      "['(']\n['[']\n['{']\n['{', '(']\nTrue\n"
     ]
    }
   ],
   "source": [
    "if __name__ == \"__main__\":\n",
    "    parentheses = \"()[]{()}\"\n",
    "    print(valid_parentheses(parentheses))"
   ]
  },
  {
   "cell_type": "code",
   "execution_count": null,
   "metadata": {},
   "outputs": [],
   "source": []
  }
 ]
}