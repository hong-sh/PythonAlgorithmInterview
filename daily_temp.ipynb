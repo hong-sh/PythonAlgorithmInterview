{
 "metadata": {
  "language_info": {
   "codemirror_mode": {
    "name": "ipython",
    "version": 3
   },
   "file_extension": ".py",
   "mimetype": "text/x-python",
   "name": "python",
   "nbconvert_exporter": "python",
   "pygments_lexer": "ipython3",
   "version": "3.6.9-final"
  },
  "orig_nbformat": 2,
  "kernelspec": {
   "name": "Python 3.6.9 64-bit",
   "display_name": "Python 3.6.9 64-bit",
   "metadata": {
    "interpreter": {
     "hash": "31f2aee4e71d21fbe5cf8b01ff0e069b9275f58929596ceb00d14d90e3e16cd6"
    }
   }
  }
 },
 "nbformat": 4,
 "nbformat_minor": 2,
 "cells": [
  {
   "cell_type": "code",
   "execution_count": 1,
   "metadata": {},
   "outputs": [],
   "source": [
    "import typing\n",
    "from typing import List"
   ]
  },
  {
   "cell_type": "code",
   "execution_count": 9,
   "metadata": {},
   "outputs": [],
   "source": [
    "def daily_tempo(list_tempo:List[int]) -> List[int]:\n",
    "    answer = [0] * len(list_tempo)\n",
    "    print('answer = ', answer)\n",
    "    stack = []\n",
    "\n",
    "    for i , cur in enumerate(list_tempo):\n",
    "        print('i, cur = ', i, cur)\n",
    "        while stack and cur > list_tempo[stack[-1]]:\n",
    "            last = stack.pop()\n",
    "            answer[last] = i - last\n",
    "        stack.append(i)\n",
    "    return answer"
   ]
  },
  {
   "cell_type": "code",
   "execution_count": 10,
   "metadata": {},
   "outputs": [
    {
     "output_type": "stream",
     "name": "stdout",
     "text": [
      "answer =  [0, 0, 0, 0, 0, 0, 0, 0]\ni, cur =  0 73\ni, cur =  1 74\ni, cur =  2 75\ni, cur =  3 71\ni, cur =  4 69\ni, cur =  5 72\ni, cur =  6 76\ni, cur =  7 73\n[1, 1, 4, 2, 1, 1, 0, 0]\n"
     ]
    }
   ],
   "source": [
    "if __name__ == \"__main__\":\n",
    "    list_tempo = [73, 74, 75, 71, 69, 72, 76, 73]\n",
    "    # expected output [1, 1, 4, 2, 1, 1, 0, 0]\n",
    "    print(daily_tempo(list_tempo))"
   ]
  },
  {
   "cell_type": "code",
   "execution_count": null,
   "metadata": {},
   "outputs": [],
   "source": []
  }
 ]
}