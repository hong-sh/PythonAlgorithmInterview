{
 "metadata": {
  "language_info": {
   "codemirror_mode": {
    "name": "ipython",
    "version": 3
   },
   "file_extension": ".py",
   "mimetype": "text/x-python",
   "name": "python",
   "nbconvert_exporter": "python",
   "pygments_lexer": "ipython3",
   "version": "3.6.9-final"
  },
  "orig_nbformat": 2,
  "kernelspec": {
   "name": "Python 3.6.9 64-bit",
   "display_name": "Python 3.6.9 64-bit",
   "metadata": {
    "interpreter": {
     "hash": "31f2aee4e71d21fbe5cf8b01ff0e069b9275f58929596ceb00d14d90e3e16cd6"
    }
   }
  }
 },
 "nbformat": 4,
 "nbformat_minor": 2,
 "cells": [
  {
   "cell_type": "code",
   "execution_count": 33,
   "metadata": {},
   "outputs": [],
   "source": [
    "import typing\n",
    "from typing import List\n",
    "\n",
    "def insert_sort(listA:List[int]):\n",
    "    for i in range(1, len(listA)):\n",
    "        position = i\n",
    "        tmp = listA[i]\n",
    "        print('i = ', i)\n",
    "        for j in reversed(range(i)):\n",
    "            print('j = ', j)\n",
    "            if listA[j] > tmp:\n",
    "                listA[j+1] = listA[j]\n",
    "                position = j\n",
    "            else:\n",
    "                break\n",
    "        \n",
    "        listA[position] = tmp\n",
    "        print('listA = ', listA)\n",
    "    return listA\n",
    "            "
   ]
  },
  {
   "cell_type": "code",
   "execution_count": 34,
   "metadata": {
    "tags": []
   },
   "outputs": [
    {
     "output_type": "stream",
     "name": "stdout",
     "text": [
      "i =  1\nj =  0\nlistA =  [1, 3, 2, 5, 7, 4, 6]\ni =  2\nj =  1\nj =  0\nlistA =  [1, 2, 3, 5, 7, 4, 6]\ni =  3\nj =  2\nlistA =  [1, 2, 3, 5, 7, 4, 6]\ni =  4\nj =  3\nlistA =  [1, 2, 3, 5, 7, 4, 6]\ni =  5\nj =  4\nj =  3\nj =  2\nlistA =  [1, 2, 3, 4, 5, 7, 6]\ni =  6\nj =  5\nj =  4\nlistA =  [1, 2, 3, 4, 5, 6, 7]\n[1, 2, 3, 4, 5, 6, 7]\n"
     ]
    }
   ],
   "source": [
    "if __name__ == \"__main__\":\n",
    "    listA = [1, 3, 2, 5, 7, 4, 6]\n",
    "    listA = insert_sort(listA)\n",
    "    print(listA)"
   ]
  },
  {
   "cell_type": "code",
   "execution_count": null,
   "metadata": {},
   "outputs": [],
   "source": []
  }
 ]
}