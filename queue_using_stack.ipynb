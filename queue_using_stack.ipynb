{
 "metadata": {
  "language_info": {
   "codemirror_mode": {
    "name": "ipython",
    "version": 3
   },
   "file_extension": ".py",
   "mimetype": "text/x-python",
   "name": "python",
   "nbconvert_exporter": "python",
   "pygments_lexer": "ipython3",
   "version": "3.6.9-final"
  },
  "orig_nbformat": 2,
  "kernelspec": {
   "name": "Python 3.6.9 64-bit",
   "display_name": "Python 3.6.9 64-bit",
   "metadata": {
    "interpreter": {
     "hash": "31f2aee4e71d21fbe5cf8b01ff0e069b9275f58929596ceb00d14d90e3e16cd6"
    }
   }
  }
 },
 "nbformat": 4,
 "nbformat_minor": 2,
 "cells": [
  {
   "cell_type": "code",
   "execution_count": 29,
   "metadata": {},
   "outputs": [],
   "source": [
    "import typing\n",
    "from typing import List\n",
    "\n",
    "class Stack:\n",
    "    def __init__(self):\n",
    "        self.stack = []\n",
    "\n",
    "    def push(self, item:int):\n",
    "        self.stack.append(item)\n",
    "\n",
    "    def pop(self) -> int:\n",
    "        return self.stack.pop()\n",
    "\n",
    "    def top(self) -> int:\n",
    "        return self.stack[-1]\n",
    "\n",
    "    def empty(self) -> bool:\n",
    "        return len(self.stack) == 0\n",
    "\n",
    "    def size(self) -> int:\n",
    "        return len(self.stack)"
   ]
  },
  {
   "cell_type": "code",
   "execution_count": 30,
   "metadata": {},
   "outputs": [],
   "source": [
    "\n",
    "class Queue:\n",
    "    def __init__(self):\n",
    "        self.queue = []\n",
    "\n",
    "    def push(self, item:int):\n",
    "        self.queue.append(item)\n",
    "\n",
    "    def pop(self) -> int:\n",
    "        item = self.queue[0]\n",
    "        del self.queue[0]\n",
    "        return item\n",
    "\n",
    "    def peek(self) -> int:\n",
    "        return self.queue[0]\n",
    "\n",
    "    def empty(self) -> bool:\n",
    "        return len(self.queue) == 0\n",
    "\n",
    "    def size(self) -> int:\n",
    "        return len(self.queue)"
   ]
  },
  {
   "cell_type": "code",
   "execution_count": 31,
   "metadata": {},
   "outputs": [],
   "source": [
    "class QueueUsingStack:\n",
    "    def __init__(self):\n",
    "        self.stack1 = Stack()\n",
    "        self.stack2 = Stack()\n",
    "\n",
    "    def push(self, item:int):\n",
    "        self.stack1.push(item)\n",
    "\n",
    "    def pop(self) -> int:\n",
    "        while not self.stack1.empty():\n",
    "            self.stack2.push(self.stack1.pop())\n",
    "        \n",
    "        item = self.stack2.pop()\n",
    "        self.stack1 , self.stack2 = self.stack2, self.stack1\n",
    "        return item\n",
    "\n",
    "    def peek(self) -> int:\n",
    "        while not self.stack1.empty():\n",
    "            self.stack2.push(self.stack1.pop())\n",
    "\n",
    "        item = self.stack2.top()\n",
    "        \n",
    "        self.stack1 , self.stack2 = self.stack2, self.stack1\n",
    "        return item\n",
    "\n",
    "    def empty(self) -> bool:\n",
    "        return self.stack1.empty()"
   ]
  },
  {
   "cell_type": "code",
   "execution_count": 32,
   "metadata": {},
   "outputs": [],
   "source": [
    "class StackUsingQueue:\n",
    "    def __init__(self):\n",
    "        self.queue = Queue()\n",
    "    \n",
    "    def push(self, item:int):\n",
    "        self.queue.push(item)\n",
    "        for _ in range(self.queue.size() - 1):\n",
    "            self.queue.push(self.queue.pop())\n",
    "\n",
    "    def pop(self) -> int:\n",
    "        return self.queue.pop()\n",
    "\n",
    "    def top(self) -> int:\n",
    "        return self.qeue.peek()\n",
    "\n",
    "    def empty(self) -> bool:\n",
    "        return self.queue.empty()"
   ]
  },
  {
   "cell_type": "code",
   "execution_count": 35,
   "metadata": {},
   "outputs": [
    {
     "output_type": "stream",
     "name": "stdout",
     "text": [
      "3\n2\n"
     ]
    }
   ],
   "source": [
    "if __name__ == \"__main__\":\n",
    "    stack = Stack()\n",
    "    stack.push(1)\n",
    "    stack.push(2)\n",
    "\n",
    "    queue = Queue()\n",
    "    queue.push(1)\n",
    "    queue.push(2)\n",
    "\n",
    "    queue_using_stack = QueueUsingStack()\n",
    "    queue_using_stack.push(1)\n",
    "    queue_using_stack.push(2)\n",
    "    #print(queue_using_stack.pop())\n",
    "    queue_using_stack.push(3)\n",
    "    #print(queue_using_stack.pop())\n",
    "\n",
    "    stack_using_queue = StackUsingQueue()\n",
    "    stack_using_queue.push(1)\n",
    "    stack_using_queue.push(2)\n",
    "    stack_using_queue.push(3)\n",
    "    print(stack_using_queue.pop())\n",
    "    print(stack_using_queue.pop())\n",
    "    "
   ]
  },
  {
   "cell_type": "code",
   "execution_count": null,
   "metadata": {},
   "outputs": [],
   "source": []
  }
 ]
}