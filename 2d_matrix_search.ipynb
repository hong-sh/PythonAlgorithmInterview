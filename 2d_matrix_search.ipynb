{
 "metadata": {
  "language_info": {
   "codemirror_mode": {
    "name": "ipython",
    "version": 3
   },
   "file_extension": ".py",
   "mimetype": "text/x-python",
   "name": "python",
   "nbconvert_exporter": "python",
   "pygments_lexer": "ipython3",
   "version": "3.6.9-final"
  },
  "orig_nbformat": 2,
  "kernelspec": {
   "name": "Python 3.6.9 64-bit",
   "display_name": "Python 3.6.9 64-bit",
   "metadata": {
    "interpreter": {
     "hash": "31f2aee4e71d21fbe5cf8b01ff0e069b9275f58929596ceb00d14d90e3e16cd6"
    }
   }
  }
 },
 "nbformat": 4,
 "nbformat_minor": 2,
 "cells": [
  {
   "cell_type": "code",
   "execution_count": 1,
   "metadata": {},
   "outputs": [],
   "source": [
    "import typing\n",
    "from typing import List"
   ]
  },
  {
   "cell_type": "code",
   "execution_count": 6,
   "metadata": {},
   "outputs": [],
   "source": [
    "def binary_search(array:List[int], target:int):\n",
    "    left, right = 0, len(array)-1\n",
    "    mid = (len(array)-1) // 2\n",
    "    while mid != left:\n",
    "        if array[mid] == target:\n",
    "            return True\n",
    "        elif target < array[mid]:\n",
    "            right = mid\n",
    "        else:\n",
    "            left = mid\n",
    "        mid = (left + right) // 2\n",
    "    return False\n",
    "            \n",
    "\n",
    "def matrix_search(matrix:List[List[int]], target:int):\n",
    "    for array in matrix:\n",
    "        if array[0] < target and array[len(array)-1] >= target:\n",
    "            if binary_search(array, target):\n",
    "                return True\n",
    "    return False\n"
   ]
  },
  {
   "cell_type": "code",
   "execution_count": 10,
   "metadata": {},
   "outputs": [
    {
     "output_type": "stream",
     "name": "stdout",
     "text": [
      "False\n"
     ]
    }
   ],
   "source": [
    "if __name__ == \"__main__\":\n",
    "    matrix = [\n",
    "        [1, 4, 7, 11, 15],\n",
    "        [2, 5, 8, 12, 19],\n",
    "        [3, 6, 9, 16, 22],\n",
    "        [10, 13, 14, 17, 24],\n",
    "        [18, 21, 23, 26, 30]]\n",
    "    print(matrix_search(matrix, 27))"
   ]
  },
  {
   "cell_type": "code",
   "execution_count": null,
   "metadata": {},
   "outputs": [],
   "source": []
  }
 ]
}