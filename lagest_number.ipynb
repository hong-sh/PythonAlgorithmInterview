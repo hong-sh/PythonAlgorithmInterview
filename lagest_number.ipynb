{
 "metadata": {
  "language_info": {
   "codemirror_mode": {
    "name": "ipython",
    "version": 3
   },
   "file_extension": ".py",
   "mimetype": "text/x-python",
   "name": "python",
   "nbconvert_exporter": "python",
   "pygments_lexer": "ipython3",
   "version": "3.6.9-final"
  },
  "orig_nbformat": 2,
  "kernelspec": {
   "name": "Python 3.6.9 64-bit",
   "display_name": "Python 3.6.9 64-bit",
   "metadata": {
    "interpreter": {
     "hash": "31f2aee4e71d21fbe5cf8b01ff0e069b9275f58929596ceb00d14d90e3e16cd6"
    }
   }
  }
 },
 "nbformat": 4,
 "nbformat_minor": 2,
 "cells": [
  {
   "cell_type": "code",
   "execution_count": 8,
   "metadata": {},
   "outputs": [],
   "source": [
    "import typing\n",
    "from typing import List\n",
    "\n",
    "def lagest_number(listA):\n",
    "    while len(listA) != 1:\n",
    "        listA[1] = max(int(str(listA[0]) + str(listA[1])), int(str(listA[1]) + str(listA[0])))\n",
    "        del listA[0]\n",
    "\n",
    "    return listA[0]"
   ]
  },
  {
   "cell_type": "code",
   "execution_count": 9,
   "metadata": {},
   "outputs": [
    {
     "output_type": "stream",
     "name": "stdout",
     "text": [
      "9534330\n"
     ]
    }
   ],
   "source": [
    "if __name__ == \"__main__\":\n",
    "    listA = [3, 30, 34, 5, 9]\n",
    "    number = lagest_number(listA)\n",
    "    print(number)"
   ]
  },
  {
   "cell_type": "code",
   "execution_count": null,
   "metadata": {},
   "outputs": [],
   "source": []
  }
 ]
}